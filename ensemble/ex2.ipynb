{
 "cells": [
  {
   "cell_type": "code",
   "execution_count": 1,
   "metadata": {},
   "outputs": [],
   "source": [
    "import pandas as pd\n",
    "pd.set_option('display.max_columns', 81)\n",
    "arquivo = pd.read_csv(\"../dataset/BRAZIL_CITIES_REV2022.CSV\", sep = \";\", decimal = \",\")"
   ]
  },
  {
   "cell_type": "code",
   "execution_count": 2,
   "metadata": {},
   "outputs": [
    {
     "data": {
      "text/html": [
       "<div>\n",
       "<style scoped>\n",
       "    .dataframe tbody tr th:only-of-type {\n",
       "        vertical-align: middle;\n",
       "    }\n",
       "\n",
       "    .dataframe tbody tr th {\n",
       "        vertical-align: top;\n",
       "    }\n",
       "\n",
       "    .dataframe thead th {\n",
       "        text-align: right;\n",
       "    }\n",
       "</style>\n",
       "<table border=\"1\" class=\"dataframe\">\n",
       "  <thead>\n",
       "    <tr style=\"text-align: right;\">\n",
       "      <th></th>\n",
       "      <th>CITY,\"STATE\",\"CAPITAL\",\"IBGE_RES_POP\",\"IBGE_RES_POP_BRAS\",\"IBGE_RES_POP_ESTR\",\"IBGE_DU\",\"IBGE_DU_URBAN\",\"IBGE_DU_RURAL\",\"IBGE_POP\",\"IBGE_1\",\"IBGE_1-4\",\"IBGE_5-9\",\"IBGE_10-14\",\"IBGE_15-59\",\"IBGE_60+\",\"IBGE_PLANTED_AREA\",\"IBGE_CROP_PRODUCTION_$\",\"IDHM Ranking 2010\",\"IDHM\",\"IDHM_Renda\",\"IDHM_Longevidade\",\"IDHM_Educacao\",\"LONG\",\"LAT\",\"ALT\",\"PAY_TV\",\"FIXED_PHONES\",\"AREA\",\"REGIAO_TUR\",\"CATEGORIA_TUR\",\"ESTIMATED_POP\",\"RURAL_URBAN\",\"GVA_AGROPEC\",\"GVA_INDUSTRY\",\"GVA_SERVICES\",\"GVA_PUBLIC\",\"GVA_TOTAL\",\"TAXES\",\"GDP\",\"POP_GDP\",\"GDP_CAPITA\",\"GVA_MAIN\",\"MUN_EXPENDIT\",\"COMP_TOT\",\"COMP_A\",\"COMP_B\",\"COMP_C\",\"COMP_D\",\"COMP_E\",\"COMP_F\",\"COMP_G\",\"COMP_H\",\"COMP_I\",\"COMP_J\",\"COMP_K\",\"COMP_L\",\"COMP_M\",\"COMP_N\",\"COMP_O\",\"COMP_P\",\"COMP_Q\",\"COMP_R\",\"COMP_S\",\"COMP_T\",\"COMP_U\",\"HOTELS\",\"BEDS\",\"Pr_Agencies\",\"Pu_Agencies\",\"Pr_Bank\",\"Pu_Bank\",\"Pr_Assets\",\"Pu_Assets\",\"Cars\",\"Motorcycles\",\"Wheeled_tractor\",\"UBER\",\"MAC\",\"WAL-MART\",\"POST_OFFICES\"</th>\n",
       "    </tr>\n",
       "  </thead>\n",
       "  <tbody>\n",
       "    <tr>\n",
       "      <th>0</th>\n",
       "      <td>Abadia De Goiás,\"GO\",\"0\",\"6876\",\"6876\",\"0\",\"21...</td>\n",
       "    </tr>\n",
       "    <tr>\n",
       "      <th>1</th>\n",
       "      <td>Abadia Dos Dourados,\"MG\",\"0\",\"6704\",\"6704\",\"0\"...</td>\n",
       "    </tr>\n",
       "    <tr>\n",
       "      <th>2</th>\n",
       "      <td>Abadiânia,\"GO\",\"0\",\"15757\",\"15609\",\"148\",\"4655...</td>\n",
       "    </tr>\n",
       "    <tr>\n",
       "      <th>3</th>\n",
       "      <td>Abaetetuba,\"PA\",\"0\",\"141100\",\"141040\",\"60\",\"31...</td>\n",
       "    </tr>\n",
       "    <tr>\n",
       "      <th>4</th>\n",
       "      <td>Abaeté,\"MG\",\"0\",\"22690\",\"22690\",\"0\",\"7694\",\"66...</td>\n",
       "    </tr>\n",
       "  </tbody>\n",
       "</table>\n",
       "</div>"
      ],
      "text/plain": [
       "  CITY,\"STATE\",\"CAPITAL\",\"IBGE_RES_POP\",\"IBGE_RES_POP_BRAS\",\"IBGE_RES_POP_ESTR\",\"IBGE_DU\",\"IBGE_DU_URBAN\",\"IBGE_DU_RURAL\",\"IBGE_POP\",\"IBGE_1\",\"IBGE_1-4\",\"IBGE_5-9\",\"IBGE_10-14\",\"IBGE_15-59\",\"IBGE_60+\",\"IBGE_PLANTED_AREA\",\"IBGE_CROP_PRODUCTION_$\",\"IDHM Ranking 2010\",\"IDHM\",\"IDHM_Renda\",\"IDHM_Longevidade\",\"IDHM_Educacao\",\"LONG\",\"LAT\",\"ALT\",\"PAY_TV\",\"FIXED_PHONES\",\"AREA\",\"REGIAO_TUR\",\"CATEGORIA_TUR\",\"ESTIMATED_POP\",\"RURAL_URBAN\",\"GVA_AGROPEC\",\"GVA_INDUSTRY\",\"GVA_SERVICES\",\"GVA_PUBLIC\",\"GVA_TOTAL\",\"TAXES\",\"GDP\",\"POP_GDP\",\"GDP_CAPITA\",\"GVA_MAIN\",\"MUN_EXPENDIT\",\"COMP_TOT\",\"COMP_A\",\"COMP_B\",\"COMP_C\",\"COMP_D\",\"COMP_E\",\"COMP_F\",\"COMP_G\",\"COMP_H\",\"COMP_I\",\"COMP_J\",\"COMP_K\",\"COMP_L\",\"COMP_M\",\"COMP_N\",\"COMP_O\",\"COMP_P\",\"COMP_Q\",\"COMP_R\",\"COMP_S\",\"COMP_T\",\"COMP_U\",\"HOTELS\",\"BEDS\",\"Pr_Agencies\",\"Pu_Agencies\",\"Pr_Bank\",\"Pu_Bank\",\"Pr_Assets\",\"Pu_Assets\",\"Cars\",\"Motorcycles\",\"Wheeled_tractor\",\"UBER\",\"MAC\",\"WAL-MART\",\"POST_OFFICES\"\n",
       "0  Abadia De Goiás,\"GO\",\"0\",\"6876\",\"6876\",\"0\",\"21...                                                                                                                                                                                                                                                                                                                                                                                                                                                                                                                                                                                                                                                                                                                                                                                                                                                                                                           \n",
       "1  Abadia Dos Dourados,\"MG\",\"0\",\"6704\",\"6704\",\"0\"...                                                                                                                                                                                                                                                                                                                                                                                                                                                                                                                                                                                                                                                                                                                                                                                                                                                                                                           \n",
       "2  Abadiânia,\"GO\",\"0\",\"15757\",\"15609\",\"148\",\"4655...                                                                                                                                                                                                                                                                                                                                                                                                                                                                                                                                                                                                                                                                                                                                                                                                                                                                                                           \n",
       "3  Abaetetuba,\"PA\",\"0\",\"141100\",\"141040\",\"60\",\"31...                                                                                                                                                                                                                                                                                                                                                                                                                                                                                                                                                                                                                                                                                                                                                                                                                                                                                                           \n",
       "4  Abaeté,\"MG\",\"0\",\"22690\",\"22690\",\"0\",\"7694\",\"66...                                                                                                                                                                                                                                                                                                                                                                                                                                                                                                                                                                                                                                                                                                                                                                                                                                                                                                           "
      ]
     },
     "execution_count": 2,
     "metadata": {},
     "output_type": "execute_result"
    }
   ],
   "source": [
    "arquivo.head()"
   ]
  },
  {
   "cell_type": "code",
   "execution_count": null,
   "metadata": {},
   "outputs": [],
   "source": [
    "# A coluna de interesse é IDH\n",
    "#vamos tentar prever os valores do IDH"
   ]
  }
 ],
 "metadata": {
  "kernelspec": {
   "display_name": "venv1",
   "language": "python",
   "name": "python3"
  },
  "language_info": {
   "codemirror_mode": {
    "name": "ipython",
    "version": 3
   },
   "file_extension": ".py",
   "mimetype": "text/x-python",
   "name": "python",
   "nbconvert_exporter": "python",
   "pygments_lexer": "ipython3",
   "version": "3.10.12"
  }
 },
 "nbformat": 4,
 "nbformat_minor": 2
}
